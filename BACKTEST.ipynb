{
 "cells": [
  {
   "cell_type": "code",
   "execution_count": 1,
   "metadata": {},
   "outputs": [
    {
     "ename": "IndentationError",
     "evalue": "unexpected indent (backtest.py, line 217)",
     "output_type": "error",
     "traceback": [
      "Traceback \u001b[1;36m(most recent call last)\u001b[0m:\n",
      "  File \u001b[0;32m\"C:\\Users\\B413863\\AppData\\Local\\Continuum\\anaconda3\\lib\\site-packages\\IPython\\core\\interactiveshell.py\"\u001b[0m, line \u001b[0;32m3325\u001b[0m, in \u001b[0;35mrun_code\u001b[0m\n    exec(code_obj, self.user_global_ns, self.user_ns)\n",
      "  File \u001b[0;32m\"<ipython-input-1-ea651983fb2a>\"\u001b[0m, line \u001b[0;32m3\u001b[0m, in \u001b[0;35m<module>\u001b[0m\n    import topgun\n",
      "  File \u001b[0;32m\"C:\\Users\\B413863\\Documents\\GitHub\\TopGun\\topgun\\__init__.py\"\u001b[0m, line \u001b[0;32m25\u001b[0m, in \u001b[0;35m<module>\u001b[0m\n    from .optimiser import *\n",
      "\u001b[1;36m  File \u001b[1;32m\"C:\\Users\\B413863\\Documents\\GitHub\\TopGun\\topgun\\optimiser\\__init__.py\"\u001b[1;36m, line \u001b[1;32m2\u001b[1;36m, in \u001b[1;35m<module>\u001b[1;36m\u001b[0m\n\u001b[1;33m    from .backtest import BacktestAnalytics\u001b[0m\n",
      "\u001b[1;36m  File \u001b[1;32m\"C:\\Users\\B413863\\Documents\\GitHub\\TopGun\\topgun\\optimiser\\backtest.py\"\u001b[1;36m, line \u001b[1;32m217\u001b[0m\n\u001b[1;33m    else:\u001b[0m\n\u001b[1;37m    ^\u001b[0m\n\u001b[1;31mIndentationError\u001b[0m\u001b[1;31m:\u001b[0m unexpected indent\n"
     ]
    }
   ],
   "source": [
    "%%capture\n",
    "\n",
    "# Install/Upgrade Latest Version of TopGun toolkit\n",
    "!python -m pip install git+https://github.com/djmcnay/topgun#egg=topgun --upgrade\n",
    "import topgun"
   ]
  },
  {
   "cell_type": "code",
   "execution_count": 5,
   "metadata": {},
   "outputs": [
    {
     "data": {
      "text/html": [
       "<div>\n",
       "<style scoped>\n",
       "    .dataframe tbody tr th:only-of-type {\n",
       "        vertical-align: middle;\n",
       "    }\n",
       "\n",
       "    .dataframe tbody tr th {\n",
       "        vertical-align: top;\n",
       "    }\n",
       "\n",
       "    .dataframe thead th {\n",
       "        text-align: right;\n",
       "    }\n",
       "</style>\n",
       "<table border=\"1\" class=\"dataframe\">\n",
       "  <thead>\n",
       "    <tr style=\"text-align: right;\">\n",
       "      <th></th>\n",
       "      <th>ZAR</th>\n",
       "      <th>JALSH</th>\n",
       "      <th>SWIX</th>\n",
       "      <th>SAGB</th>\n",
       "      <th>STEFI</th>\n",
       "      <th>MXWO</th>\n",
       "      <th>MXEF</th>\n",
       "      <th>GBL_AGG</th>\n",
       "    </tr>\n",
       "    <tr>\n",
       "      <th>Dates</th>\n",
       "      <th></th>\n",
       "      <th></th>\n",
       "      <th></th>\n",
       "      <th></th>\n",
       "      <th></th>\n",
       "      <th></th>\n",
       "      <th></th>\n",
       "      <th></th>\n",
       "    </tr>\n",
       "  </thead>\n",
       "  <tbody>\n",
       "    <tr>\n",
       "      <th>2020-06-30</th>\n",
       "      <td>-0.009546</td>\n",
       "      <td>0.077416</td>\n",
       "      <td>0.069813</td>\n",
       "      <td>0.002584</td>\n",
       "      <td>0.004704</td>\n",
       "      <td>0.014975</td>\n",
       "      <td>0.061507</td>\n",
       "      <td>0.004991</td>\n",
       "    </tr>\n",
       "    <tr>\n",
       "      <th>2020-07-31</th>\n",
       "      <td>-0.017677</td>\n",
       "      <td>0.025563</td>\n",
       "      <td>0.030073</td>\n",
       "      <td>0.025390</td>\n",
       "      <td>0.004189</td>\n",
       "      <td>0.026455</td>\n",
       "      <td>0.067127</td>\n",
       "      <td>0.010928</td>\n",
       "    </tr>\n",
       "    <tr>\n",
       "      <th>2020-08-31</th>\n",
       "      <td>-0.008376</td>\n",
       "      <td>-0.002575</td>\n",
       "      <td>-0.008797</td>\n",
       "      <td>0.014494</td>\n",
       "      <td>0.003874</td>\n",
       "      <td>0.060829</td>\n",
       "      <td>0.016372</td>\n",
       "      <td>-0.007246</td>\n",
       "    </tr>\n",
       "    <tr>\n",
       "      <th>2020-09-30</th>\n",
       "      <td>-0.014337</td>\n",
       "      <td>-0.015847</td>\n",
       "      <td>-0.010665</td>\n",
       "      <td>0.014404</td>\n",
       "      <td>0.003486</td>\n",
       "      <td>-0.048341</td>\n",
       "      <td>-0.030146</td>\n",
       "      <td>0.003653</td>\n",
       "    </tr>\n",
       "    <tr>\n",
       "      <th>2020-10-30</th>\n",
       "      <td>-0.026501</td>\n",
       "      <td>-0.047255</td>\n",
       "      <td>-0.042437</td>\n",
       "      <td>0.035083</td>\n",
       "      <td>0.003269</td>\n",
       "      <td>-0.054533</td>\n",
       "      <td>-0.004517</td>\n",
       "      <td>0.000073</td>\n",
       "    </tr>\n",
       "  </tbody>\n",
       "</table>\n",
       "</div>"
      ],
      "text/plain": [
       "                 ZAR     JALSH      SWIX      SAGB     STEFI      MXWO  \\\n",
       "Dates                                                                    \n",
       "2020-06-30 -0.009546  0.077416  0.069813  0.002584  0.004704  0.014975   \n",
       "2020-07-31 -0.017677  0.025563  0.030073  0.025390  0.004189  0.026455   \n",
       "2020-08-31 -0.008376 -0.002575 -0.008797  0.014494  0.003874  0.060829   \n",
       "2020-09-30 -0.014337 -0.015847 -0.010665  0.014404  0.003486 -0.048341   \n",
       "2020-10-30 -0.026501 -0.047255 -0.042437  0.035083  0.003269 -0.054533   \n",
       "\n",
       "                MXEF   GBL_AGG  \n",
       "Dates                           \n",
       "2020-06-30  0.061507  0.004991  \n",
       "2020-07-31  0.067127  0.010928  \n",
       "2020-08-31  0.016372 -0.007246  \n",
       "2020-09-30 -0.030146  0.003653  \n",
       "2020-10-30 -0.004517  0.000073  "
      ]
     },
     "metadata": {},
     "output_type": "display_data"
    }
   ],
   "source": [
    "import numpy as np\n",
    "import pandas as pd\n",
    "import xlwings as xlw\n",
    "\n",
    "wb = xlw.Book('BACKTEST.xlsm')\n",
    "\n",
    "# index data from timeseries sheet; CONVERT TO RETURNS & make sure date strings are datetimes\n",
    "bmkrtns = wb.sheets['TIMESERIES'].range('D1').options(pd.DataFrame, expand='table').value.iloc[3:,:].pct_change()\n",
    "bmkrtns.index = pd.to_datetime(bmkrtns.index)\n",
    "display(bmkrtns.tail())    # preview\n",
    "\n",
    "# Bring in Enhanced & Core Data\n",
    "E = wb.sheets['Enhanced'].range('A1').options(pd.DataFrame, expand='table').value.iloc[:,1]\n",
    "C = wb.sheets['Core'].range('A1').options(pd.DataFrame, expand='table').value.iloc[:,1]\n",
    "SMM = wb.sheets['SMM'].range('A1').options(pd.DataFrame, expand='table').value.iloc[:,0]\n",
    "\n",
    "\n",
    "# Convert to month-end dates\n",
    "E.index = E.index + pd.offsets.MonthEnd(0)\n",
    "C.index = C.index + pd.offsets.MonthEnd(0)\n",
    "SMM.index = pd.to_datetime(SMM.index) + pd.offsets.MonthEnd(0)\n",
    "\n",
    "# Rename Series\n",
    "E.name = 'Enhanced'\n",
    "C.name = 'Core'\n",
    "SMM.name ='SMM'\n",
    "\n",
    "benchmark = 'SWIX'    # Becnhmark code from benchmarks"
   ]
  },
  {
   "cell_type": "code",
   "execution_count": null,
   "metadata": {},
   "outputs": [],
   "source": []
  },
  {
   "cell_type": "code",
   "execution_count": 3,
   "metadata": {},
   "outputs": [
    {
     "name": "stderr",
     "output_type": "stream",
     "text": [
      "C:\\ProgramData\\Anaconda3\\lib\\site-packages\\statsmodels\\regression\\linear_model.py:1685: RuntimeWarning:\n",
      "\n",
      "invalid value encountered in double_scalars\n",
      "\n"
     ]
    },
    {
     "data": {
      "text/plain": [
       "'REPORT WRITTEN: MF Enhanced v1'"
      ]
     },
     "execution_count": 3,
     "metadata": {},
     "output_type": "execute_result"
    }
   ],
   "source": [
    "bt = topgun.BacktestAnalytics(E, bmkrtns, benchmark=benchmark, Rf='STEFI')\n",
    "md = bt.big_bang(title=\"MF Enhanced Strategy - Fairtree UT\")\n",
    "topgun.Reporting().md2html(md=md, title=\"MF Enhanced v2\")"
   ]
  },
  {
   "cell_type": "code",
   "execution_count": 7,
   "metadata": {},
   "outputs": [
    {
     "data": {
      "text/plain": [
       "'REPORT WRITTEN: MF Blends v2'"
      ]
     },
     "execution_count": 7,
     "metadata": {},
     "output_type": "execute_result"
    }
   ],
   "source": [
    "# PORT(s) to Model\n",
    "rtns = pd.concat([E, C], axis=1).dropna()\n",
    "rtns['E20'] = rtns['Enhanced'] * 0.2 + rtns['Core'] * (1 - 0.2)\n",
    "rtns['E30'] = rtns['Enhanced'] * 0.3 + rtns['Core'] * (1 - 0.3)\n",
    "rtns['E40'] = rtns['Enhanced'] * 0.4 + rtns['Core'] * (1 - 0.4)\n",
    "rtns['E50'] = rtns['Enhanced'] * 0.5 + rtns['Core'] * (1 - 0.5)\n",
    "rtns['E60'] = rtns['Enhanced'] * 0.6 + rtns['Core'] * (1 - 0.6)\n",
    "rtns['E70'] = rtns['Enhanced'] * 0.7 + rtns['Core'] * (1 - 0.7)\n",
    "rtns['E80'] = rtns['Enhanced'] * 0.8 + rtns['Core'] * (1 - 0.8)\n",
    "rtns = rtns.drop(['Enhanced', 'Core'], axis=1)\n",
    "\n",
    "bt = topgun.BacktestAnalytics(rtns, bmkrtns, benchmark=benchmark, Rf='STEFI')\n",
    "md = bt.big_bang(title=\"Multi-Factor Enhanced-Core Blends\")\n",
    "topgun.Reporting().md2html(md=md, title=\"MF Blends v2\")"
   ]
  },
  {
   "cell_type": "code",
   "execution_count": 6,
   "metadata": {},
   "outputs": [
    {
     "name": "stderr",
     "output_type": "stream",
     "text": [
      "C:\\ProgramData\\Anaconda3\\lib\\site-packages\\statsmodels\\regression\\linear_model.py:1685: RuntimeWarning:\n",
      "\n",
      "invalid value encountered in double_scalars\n",
      "\n",
      "C:\\ProgramData\\Anaconda3\\lib\\site-packages\\matplotlib\\colors.py:527: RuntimeWarning:\n",
      "\n",
      "invalid value encountered in less\n",
      "\n"
     ]
    },
    {
     "data": {
      "text/plain": [
       "'REPORT WRITTEN: MF Historical v2'"
      ]
     },
     "execution_count": 6,
     "metadata": {},
     "output_type": "execute_result"
    }
   ],
   "source": [
    "# PORT(s) to Model\n",
    "rtns = pd.concat([E, C], axis=1).dropna()\n",
    "ewgt = 0.3\n",
    "rtns['MIX'] = rtns['Enhanced']*ewgt + rtns['Core']*(1-ewgt)\n",
    "\n",
    "bt = topgun.BacktestAnalytics(rtns, bmkrtns, benchmark=benchmark, Rf='STEFI')\n",
    "md = bt.big_bang(title=\"Multi-Factor Historical Returns with {:.0%} Blend\".format(ewgt))\n",
    "topgun.Reporting().md2html(md=md, title=\"MF Historical v2\")"
   ]
  },
  {
   "cell_type": "code",
   "execution_count": 6,
   "metadata": {},
   "outputs": [
    {
     "data": {
      "text/plain": [
       "'REPORT WRITTEN: SMM Equity Blend v1'"
      ]
     },
     "execution_count": 6,
     "metadata": {},
     "output_type": "execute_result"
    }
   ],
   "source": [
    "rtns = pd.concat([E, C, SMM], axis=1).dropna()\n",
    "rtns['MF'] = rtns['Enhanced']*0.30 + rtns['Core']*(1-0.3)\n",
    "rtns['BLEND'] = rtns['MF']*0.5 + rtns['SMM']*(1-0.5)\n",
    "\n",
    "rtns = rtns.loc[:,['BLEND', 'SMM', 'MF', 'Enhanced', 'Core']]\n",
    "\n",
    "bt = topgun.BacktestAnalytics(rtns, bmkrtns, benchmark=benchmark, Rf='STEFI')\n",
    "md = bt.big_bang(title=\"SMM Equity Fund\")\n",
    "topgun.Reporting().md2html(md=md, title=\"SMM Equity Blend v2\")"
   ]
  },
  {
   "cell_type": "code",
   "execution_count": null,
   "metadata": {},
   "outputs": [],
   "source": []
  },
  {
   "cell_type": "code",
   "execution_count": null,
   "metadata": {},
   "outputs": [],
   "source": []
  },
  {
   "cell_type": "code",
   "execution_count": null,
   "metadata": {},
   "outputs": [],
   "source": []
  },
  {
   "cell_type": "code",
   "execution_count": null,
   "metadata": {},
   "outputs": [],
   "source": []
  }
 ],
 "metadata": {
  "kernelspec": {
   "display_name": "Python 3",
   "language": "python",
   "name": "python3"
  },
  "language_info": {
   "codemirror_mode": {
    "name": "ipython",
    "version": 3
   },
   "file_extension": ".py",
   "mimetype": "text/x-python",
   "name": "python",
   "nbconvert_exporter": "python",
   "pygments_lexer": "ipython3",
   "version": "3.7.3"
  }
 },
 "nbformat": 4,
 "nbformat_minor": 4
}
