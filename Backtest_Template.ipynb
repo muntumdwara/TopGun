{
 "cells": [
  {
   "cell_type": "markdown",
   "metadata": {},
   "source": [
    "##  Step 1: Import modules & packages"
   ]
  },
  {
   "cell_type": "code",
   "execution_count": 1,
   "metadata": {},
   "outputs": [],
   "source": [
    "%load_ext autoreload\n",
    "%autoreload 2\n",
    "!pip https://github.com/multistrat/TopGun.git              #Only use if you don't have the package on your local directory\n",
    "from topgun.optimiser.backtest import BacktestAnalytics\n",
    "from topgun.reporting import Reporting\n",
    "import numpy as np\n",
    "import pandas as pd\n",
    "import xlwings as xlw"
   ]
  },
  {
   "cell_type": "markdown",
   "metadata": {},
   "source": [
    "##  Step 2: Import  Workbook with the relevant worksheet into jupyter "
   ]
  },
  {
   "cell_type": "markdown",
   "metadata": {},
   "source": [
    "### The best way to implement is create a worksheet that contain the benchmark & risk free data.  Create another worksheet that contain the prices of the strategies that needs to backtested"
   ]
  },
  {
   "cell_type": "markdown",
   "metadata": {},
   "source": [
    "#### 2.a Define the Workbook name\n",
    "#### 2.b Define the worksheets that contain the benchmark , Risk free dat & strategies that you want to backtest"
   ]
  },
  {
   "cell_type": "code",
   "execution_count": 2,
   "metadata": {},
   "outputs": [],
   "source": [
    "wb = xlw.Book('BACKTEST.xlsm') # Step 2.a defined the workbook name . Please note that workbook needs to be in the same directory\n",
    "\n",
    "\n",
    "Assets = wb.sheets['TIMESERIES'].range('D1').options(pd.DataFrame, expand='table').value.iloc[3:,:].pct_change().dropna() # Step 2.b Import the data from the specific defined worksheet \n",
    "Assets.index = pd.to_datetime(Assets.index) # Convert the index of the dataframe to a date "
   ]
  },
  {
   "cell_type": "markdown",
   "metadata": {},
   "source": [
    "##  Step 3:  Define the benchmark , risk free index and the various strategies  that you want to backtest"
   ]
  },
  {
   "cell_type": "markdown",
   "metadata": {},
   "source": [
    "#### 3.a Define the the dataframe for bechmark & risk free\n",
    "#### 3.b Define the the dataframe  for the all Strategies that needs to backtested"
   ]
  },
  {
   "cell_type": "code",
   "execution_count": 3,
   "metadata": {},
   "outputs": [],
   "source": [
    "# Create a 60/40 portfolio\n",
    "Assets['60/40']= 0.7*((0.6*Assets['ALSI'])+(0.4*Assets['ALBI']))+0.3*((0.6*Assets['MSCI ACWI '])+(0.4*Assets['JP Morgan GBI Global']))"
   ]
  },
  {
   "cell_type": "code",
   "execution_count": 4,
   "metadata": {},
   "outputs": [],
   "source": [
    "# Create the dataframe that holds the benchmark returns\n",
    "bmktrtns = Assets[['60/40','STEFI']]\n",
    "benchmark = '60/40'    # Benchmark code from benchmarks"
   ]
  },
  {
   "cell_type": "code",
   "execution_count": 5,
   "metadata": {},
   "outputs": [],
   "source": [
    "# Allocation to Carry Strategy \n",
    "# the below depicts the weights \n",
    "x1 = 0.02\n",
    "x2 = 0.04\n",
    "x3 = 0.06\n",
    "x4 = 0.08\n",
    "x5 = 0.10\n",
    "\n",
    "rtns = pd.DataFrame() # create a empty data frame to store The Returns with allocation to Commodity Strategy\n",
    "\n",
    "# Calculate the returns : Please note that Carry Strategy is financed from Equity\n",
    "\n",
    "rtns['E2']= 0.7*((0.6*Assets['ALSI'])+(0.4*Assets['ALBI']))+0.3*(((0.6-x1)*Assets['MSCI ACWI '])+(0.4*Assets['JP Morgan GBI Global'])+(x1*Assets['Minimum Drawdown Carry']))\n",
    "rtns['E4']= 0.7*((0.6*Assets['ALSI'])+(0.4*Assets['ALBI']))+0.3*(((0.6-x2)*Assets['MSCI ACWI '])+(0.4*Assets['JP Morgan GBI Global'])+(x2*Assets['Minimum Drawdown Carry']))\n",
    "rtns['E6']= 0.7*((0.6*Assets['ALSI'])+(0.4*Assets['ALBI']))+0.3*(((0.6-x3)*Assets['MSCI ACWI '])+(0.4*Assets['JP Morgan GBI Global'])+(x3*Assets['Minimum Drawdown Carry']))\n",
    "rtns['E8']= 0.7*((0.6*Assets['ALSI'])+(0.4*Assets['ALBI']))+0.3*(((0.6-x4)*Assets['MSCI ACWI '])+(0.4*Assets['JP Morgan GBI Global'])+(x4*Assets['Minimum Drawdown Carry']))\n",
    "rtns['E10']= 0.7*((0.6*Assets['ALSI'])+(0.4*Assets['ALBI']))+0.3*(((0.6-x5)*Assets['MSCI ACWI '])+(0.4*Assets['JP Morgan GBI Global'])+(x5*Assets['Minimum Drawdown Carry']))"
   ]
  },
  {
   "cell_type": "markdown",
   "metadata": {},
   "source": [
    "##  Step 4:  Activate the BacktestAnalytics Model with necessary input data "
   ]
  },
  {
   "cell_type": "code",
   "execution_count": 6,
   "metadata": {},
   "outputs": [],
   "source": [
    "bt = BacktestAnalytics(rtns, bmktrtns, bmks_as_rtns=True, benchmark=benchmark, Rf='STEFI')\n"
   ]
  },
  {
   "cell_type": "markdown",
   "metadata": {},
   "source": [
    "##  Step 5:  Create the html report with specific title"
   ]
  },
  {
   "cell_type": "code",
   "execution_count": 7,
   "metadata": {},
   "outputs": [
    {
     "name": "stderr",
     "output_type": "stream",
     "text": [
      "c:\\users\\b413863\\appdata\\local\\continuum\\anaconda3\\lib\\site-packages\\statsmodels\\regression\\rolling.py:216: RuntimeWarning:\n",
      "\n",
      "divide by zero encountered in log\n",
      "\n",
      "c:\\users\\b413863\\appdata\\local\\continuum\\anaconda3\\lib\\site-packages\\statsmodels\\regression\\rolling.py:216: RuntimeWarning:\n",
      "\n",
      "divide by zero encountered in log\n",
      "\n",
      "c:\\users\\b413863\\appdata\\local\\continuum\\anaconda3\\lib\\site-packages\\statsmodels\\regression\\linear_model.py:1685: RuntimeWarning:\n",
      "\n",
      "invalid value encountered in double_scalars\n",
      "\n"
     ]
    },
    {
     "data": {
      "text/plain": [
       "'REPORT WRITTEN: Commodity Carry Strategy2'"
      ]
     },
     "execution_count": 7,
     "metadata": {},
     "output_type": "execute_result"
    }
   ],
   "source": [
    "md=bt.big_bang(title=\"Backtest 60/40 Portfolio with allocation to Commodity Carry\")# Title in the html report\n",
    "Reporting().md2html(md=md, title=\"Commodity Carry Strategy2\") # html Template name"
   ]
  },
  {
   "cell_type": "code",
   "execution_count": null,
   "metadata": {},
   "outputs": [],
   "source": []
  },
  {
   "cell_type": "code",
   "execution_count": null,
   "metadata": {},
   "outputs": [],
   "source": []
  }
 ],
 "metadata": {
  "kernelspec": {
   "display_name": "Python 3",
   "language": "python",
   "name": "python3"
  },
  "language_info": {
   "codemirror_mode": {
    "name": "ipython",
    "version": 3
   },
   "file_extension": ".py",
   "mimetype": "text/x-python",
   "name": "python",
   "nbconvert_exporter": "python",
   "pygments_lexer": "ipython3",
   "version": "3.7.3"
  }
 },
 "nbformat": 4,
 "nbformat_minor": 4
}
